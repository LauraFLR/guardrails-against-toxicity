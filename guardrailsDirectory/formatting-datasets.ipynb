{
 "cells": [
  {
   "cell_type": "markdown",
   "metadata": {},
   "source": [
    "# Loading & formatting the needed datasets from huggingface"
   ]
  },
  {
   "cell_type": "code",
   "execution_count": null,
   "metadata": {},
   "outputs": [],
   "source": [
    "import pandas as pd"
   ]
  },
  {
   "cell_type": "code",
   "execution_count": null,
   "metadata": {},
   "outputs": [],
   "source": [
    "# set nr_samples | is equal in harmful and helpful\n",
    "nr_samples = 200"
   ]
  },
  {
   "cell_type": "markdown",
   "metadata": {},
   "source": [
    "## Harmful dataset"
   ]
  },
  {
   "cell_type": "code",
   "execution_count": null,
   "metadata": {},
   "outputs": [],
   "source": [
    "# --- load the harmful dataset\n",
    "# https://huggingface.co/datasets/LLM-LAT/harmful-dataset\n",
    "# credits: https://huggingface.co/LLM-LAT\n",
    "\n",
    "total_df = pd.read_parquet(\"hf://datasets/LLM-LAT/harmful-dataset/data/train-00000-of-00001.parquet\")\n",
    "total_df.info()"
   ]
  },
  {
   "cell_type": "code",
   "execution_count": null,
   "metadata": {},
   "outputs": [],
   "source": [
    "# --- create a subset with nr_samples samples\n",
    "subset_df = total_df.sample(n=nr_samples, random_state=101)\n",
    "instructions = []\n",
    "for prompt in subset_df['prompt']:\n",
    "    instructions.append(prompt)\n",
    "    \n",
    "harmful_df = pd.DataFrame(data={'instruction':instructions})"
   ]
  },
  {
   "cell_type": "code",
   "execution_count": null,
   "metadata": {},
   "outputs": [],
   "source": [
    "# save to data folder\n",
    "harmful_df.to_json('data/harmful_df.jsonl', lines=True, orient='records')"
   ]
  },
  {
   "cell_type": "markdown",
   "metadata": {},
   "source": [
    "## Helpful dataset"
   ]
  },
  {
   "cell_type": "code",
   "execution_count": null,
   "metadata": {},
   "outputs": [],
   "source": [
    "# load the helpful dataset\n",
    "# https://huggingface.co/datasets/HuggingFaceH4/helpful-anthropic-raw\n",
    "\n",
    "import pandas as pd\n",
    "\n",
    "total_df = pd.read_parquet(\"hf://datasets/HuggingFaceH4/helpful-anthropic-raw/data/train-00000-of-00001-03bd2a0dfcf4b1a5.parquet\")\n",
    "total_df.info()"
   ]
  },
  {
   "cell_type": "code",
   "execution_count": null,
   "metadata": {},
   "outputs": [],
   "source": [
    "subset_df = total_df.sample(n=nr_samples, random_state=101)\n",
    "instructions = []\n",
    "for prompt in subset_df['instruction']:\n",
    "    instructions.append(prompt)\n",
    "    \n",
    "helpful_df = pd.DataFrame(data={'instruction':instructions})\n",
    "helpful_df.info()"
   ]
  },
  {
   "cell_type": "code",
   "execution_count": null,
   "metadata": {},
   "outputs": [],
   "source": [
    "# save to data folder\n",
    "helpful_df.to_json('data/helpful_df.jsonl', lines=True, orient='records')"
   ]
  }
 ],
 "metadata": {
  "kernelspec": {
   "display_name": "guardrails",
   "language": "python",
   "name": "python3"
  },
  "language_info": {
   "codemirror_mode": {
    "name": "ipython",
    "version": 3
   },
   "file_extension": ".py",
   "mimetype": "text/x-python",
   "name": "python",
   "nbconvert_exporter": "python",
   "pygments_lexer": "ipython3",
   "version": "3.10.14"
  }
 },
 "nbformat": 4,
 "nbformat_minor": 2
}
